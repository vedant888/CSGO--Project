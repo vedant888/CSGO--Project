{
 "cells": [
  {
   "cell_type": "markdown",
   "id": "27d736cb",
   "metadata": {},
   "source": [
    "# CSGO project \n",
    "\n",
    "- Build and compare multiple machine learning algorithms for the classificatoin of round winners in the game CSGO. \n",
    "- Using LDA for selecting the features more important for model building.\n",
    "\n",
    "- **PCA**  \n",
    "    - unsupervised Algorithm \n",
    "        - which is used to reduce the dimensions considering the independant features only.\n",
    "\n",
    "- **LDA**\n",
    "    - Supervised algorithm.\n",
    "    - Classification Algorithm only.\n",
    "        - This algorithm is used to reduce the dimensions considers the target column classes and the distinctions between those classes as basis to decide what features to use for model building.\n",
    "\n",
    "- **Features** : columns\n",
    "    - Independent features : dimensions\n",
    "    - Dependant features : target\n",
    "   \n",
    "- **Target column** \n",
    "    - -> classified -> yes/no or T/CT or Red/Blue (Classes)  \n"
   ]
  },
  {
   "cell_type": "markdown",
   "id": "9d9d5a43",
   "metadata": {},
   "source": [
    "#### Importing the libraries"
   ]
  },
  {
   "cell_type": "code",
   "execution_count": 1,
   "id": "2b5ecbd4",
   "metadata": {},
   "outputs": [],
   "source": [
    "import pandas as pd\n",
    "import numpy as np\n",
    "import matplotlib.pyplot as plt\n",
    "import seaborn as sns"
   ]
  },
  {
   "cell_type": "code",
   "execution_count": 2,
   "id": "71d452c9",
   "metadata": {
    "scrolled": true
   },
   "outputs": [
    {
     "data": {
      "text/html": [
       "<div>\n",
       "<style scoped>\n",
       "    .dataframe tbody tr th:only-of-type {\n",
       "        vertical-align: middle;\n",
       "    }\n",
       "\n",
       "    .dataframe tbody tr th {\n",
       "        vertical-align: top;\n",
       "    }\n",
       "\n",
       "    .dataframe thead th {\n",
       "        text-align: right;\n",
       "    }\n",
       "</style>\n",
       "<table border=\"1\" class=\"dataframe\">\n",
       "  <thead>\n",
       "    <tr style=\"text-align: right;\">\n",
       "      <th></th>\n",
       "      <th>time_left</th>\n",
       "      <th>ct_score</th>\n",
       "      <th>t_score</th>\n",
       "      <th>map</th>\n",
       "      <th>bomb_planted</th>\n",
       "      <th>ct_health</th>\n",
       "      <th>t_health</th>\n",
       "      <th>ct_armor</th>\n",
       "      <th>t_armor</th>\n",
       "      <th>ct_money</th>\n",
       "      <th>...</th>\n",
       "      <th>t_grenade_flashbang</th>\n",
       "      <th>ct_grenade_smokegrenade</th>\n",
       "      <th>t_grenade_smokegrenade</th>\n",
       "      <th>ct_grenade_incendiarygrenade</th>\n",
       "      <th>t_grenade_incendiarygrenade</th>\n",
       "      <th>ct_grenade_molotovgrenade</th>\n",
       "      <th>t_grenade_molotovgrenade</th>\n",
       "      <th>ct_grenade_decoygrenade</th>\n",
       "      <th>t_grenade_decoygrenade</th>\n",
       "      <th>round_winner</th>\n",
       "    </tr>\n",
       "  </thead>\n",
       "  <tbody>\n",
       "    <tr>\n",
       "      <th>0</th>\n",
       "      <td>175.00</td>\n",
       "      <td>0</td>\n",
       "      <td>0</td>\n",
       "      <td>de_dust2</td>\n",
       "      <td>False</td>\n",
       "      <td>500</td>\n",
       "      <td>500</td>\n",
       "      <td>0</td>\n",
       "      <td>0</td>\n",
       "      <td>4000</td>\n",
       "      <td>...</td>\n",
       "      <td>0</td>\n",
       "      <td>0</td>\n",
       "      <td>0</td>\n",
       "      <td>0</td>\n",
       "      <td>0</td>\n",
       "      <td>0</td>\n",
       "      <td>0</td>\n",
       "      <td>0</td>\n",
       "      <td>0</td>\n",
       "      <td>CT</td>\n",
       "    </tr>\n",
       "    <tr>\n",
       "      <th>1</th>\n",
       "      <td>156.03</td>\n",
       "      <td>0</td>\n",
       "      <td>0</td>\n",
       "      <td>de_dust2</td>\n",
       "      <td>False</td>\n",
       "      <td>500</td>\n",
       "      <td>500</td>\n",
       "      <td>400</td>\n",
       "      <td>300</td>\n",
       "      <td>600</td>\n",
       "      <td>...</td>\n",
       "      <td>0</td>\n",
       "      <td>0</td>\n",
       "      <td>2</td>\n",
       "      <td>0</td>\n",
       "      <td>0</td>\n",
       "      <td>0</td>\n",
       "      <td>0</td>\n",
       "      <td>0</td>\n",
       "      <td>0</td>\n",
       "      <td>CT</td>\n",
       "    </tr>\n",
       "    <tr>\n",
       "      <th>2</th>\n",
       "      <td>96.03</td>\n",
       "      <td>0</td>\n",
       "      <td>0</td>\n",
       "      <td>de_dust2</td>\n",
       "      <td>False</td>\n",
       "      <td>391</td>\n",
       "      <td>400</td>\n",
       "      <td>294</td>\n",
       "      <td>200</td>\n",
       "      <td>750</td>\n",
       "      <td>...</td>\n",
       "      <td>0</td>\n",
       "      <td>0</td>\n",
       "      <td>2</td>\n",
       "      <td>0</td>\n",
       "      <td>0</td>\n",
       "      <td>0</td>\n",
       "      <td>0</td>\n",
       "      <td>0</td>\n",
       "      <td>0</td>\n",
       "      <td>CT</td>\n",
       "    </tr>\n",
       "    <tr>\n",
       "      <th>3</th>\n",
       "      <td>76.03</td>\n",
       "      <td>0</td>\n",
       "      <td>0</td>\n",
       "      <td>de_dust2</td>\n",
       "      <td>False</td>\n",
       "      <td>391</td>\n",
       "      <td>400</td>\n",
       "      <td>294</td>\n",
       "      <td>200</td>\n",
       "      <td>750</td>\n",
       "      <td>...</td>\n",
       "      <td>0</td>\n",
       "      <td>0</td>\n",
       "      <td>0</td>\n",
       "      <td>0</td>\n",
       "      <td>0</td>\n",
       "      <td>0</td>\n",
       "      <td>0</td>\n",
       "      <td>0</td>\n",
       "      <td>0</td>\n",
       "      <td>CT</td>\n",
       "    </tr>\n",
       "    <tr>\n",
       "      <th>4</th>\n",
       "      <td>174.97</td>\n",
       "      <td>1</td>\n",
       "      <td>0</td>\n",
       "      <td>de_dust2</td>\n",
       "      <td>False</td>\n",
       "      <td>500</td>\n",
       "      <td>500</td>\n",
       "      <td>192</td>\n",
       "      <td>0</td>\n",
       "      <td>18350</td>\n",
       "      <td>...</td>\n",
       "      <td>0</td>\n",
       "      <td>0</td>\n",
       "      <td>0</td>\n",
       "      <td>0</td>\n",
       "      <td>0</td>\n",
       "      <td>0</td>\n",
       "      <td>0</td>\n",
       "      <td>0</td>\n",
       "      <td>0</td>\n",
       "      <td>CT</td>\n",
       "    </tr>\n",
       "  </tbody>\n",
       "</table>\n",
       "<p>5 rows × 97 columns</p>\n",
       "</div>"
      ],
      "text/plain": [
       "   time_left  ct_score  t_score       map  bomb_planted  ct_health  t_health  \\\n",
       "0     175.00         0        0  de_dust2         False        500       500   \n",
       "1     156.03         0        0  de_dust2         False        500       500   \n",
       "2      96.03         0        0  de_dust2         False        391       400   \n",
       "3      76.03         0        0  de_dust2         False        391       400   \n",
       "4     174.97         1        0  de_dust2         False        500       500   \n",
       "\n",
       "   ct_armor  t_armor  ct_money  ...  t_grenade_flashbang  \\\n",
       "0         0        0      4000  ...                    0   \n",
       "1       400      300       600  ...                    0   \n",
       "2       294      200       750  ...                    0   \n",
       "3       294      200       750  ...                    0   \n",
       "4       192        0     18350  ...                    0   \n",
       "\n",
       "   ct_grenade_smokegrenade  t_grenade_smokegrenade  \\\n",
       "0                        0                       0   \n",
       "1                        0                       2   \n",
       "2                        0                       2   \n",
       "3                        0                       0   \n",
       "4                        0                       0   \n",
       "\n",
       "   ct_grenade_incendiarygrenade  t_grenade_incendiarygrenade  \\\n",
       "0                             0                            0   \n",
       "1                             0                            0   \n",
       "2                             0                            0   \n",
       "3                             0                            0   \n",
       "4                             0                            0   \n",
       "\n",
       "   ct_grenade_molotovgrenade  t_grenade_molotovgrenade  \\\n",
       "0                          0                         0   \n",
       "1                          0                         0   \n",
       "2                          0                         0   \n",
       "3                          0                         0   \n",
       "4                          0                         0   \n",
       "\n",
       "   ct_grenade_decoygrenade  t_grenade_decoygrenade  round_winner  \n",
       "0                        0                       0            CT  \n",
       "1                        0                       0            CT  \n",
       "2                        0                       0            CT  \n",
       "3                        0                       0            CT  \n",
       "4                        0                       0            CT  \n",
       "\n",
       "[5 rows x 97 columns]"
      ]
     },
     "execution_count": 2,
     "metadata": {},
     "output_type": "execute_result"
    }
   ],
   "source": [
    "df = pd.read_csv('./DataCGGO.csv')\n",
    "df.head(5)"
   ]
  },
  {
   "cell_type": "markdown",
   "id": "f64e29a0",
   "metadata": {},
   "source": [
    "#### Analysis and Pre-Processing "
   ]
  },
  {
   "cell_type": "code",
   "execution_count": 3,
   "id": "90c7d8a5",
   "metadata": {},
   "outputs": [
    {
     "data": {
      "text/plain": [
       "(122410, 97)"
      ]
     },
     "execution_count": 3,
     "metadata": {},
     "output_type": "execute_result"
    }
   ],
   "source": [
    "df.shape"
   ]
  },
  {
   "cell_type": "code",
   "execution_count": 4,
   "id": "3a5f647d",
   "metadata": {},
   "outputs": [
    {
     "data": {
      "text/plain": [
       "Index(['time_left', 'ct_score', 't_score', 'map', 'bomb_planted', 'ct_health',\n",
       "       't_health', 'ct_armor', 't_armor', 'ct_money', 't_money', 'ct_helmets',\n",
       "       't_helmets', 'ct_defuse_kits', 'ct_players_alive', 't_players_alive',\n",
       "       'ct_weapon_ak47', 't_weapon_ak47', 'ct_weapon_aug', 't_weapon_aug',\n",
       "       'ct_weapon_awp', 't_weapon_awp', 'ct_weapon_bizon', 't_weapon_bizon',\n",
       "       'ct_weapon_cz75auto', 't_weapon_cz75auto', 'ct_weapon_elite',\n",
       "       't_weapon_elite', 'ct_weapon_famas', 't_weapon_famas',\n",
       "       'ct_weapon_g3sg1', 't_weapon_g3sg1', 'ct_weapon_galilar',\n",
       "       't_weapon_galilar', 'ct_weapon_glock', 't_weapon_glock',\n",
       "       'ct_weapon_m249', 't_weapon_m249', 'ct_weapon_m4a1s', 't_weapon_m4a1s',\n",
       "       'ct_weapon_m4a4', 't_weapon_m4a4', 'ct_weapon_mac10', 't_weapon_mac10',\n",
       "       'ct_weapon_mag7', 't_weapon_mag7', 'ct_weapon_mp5sd', 't_weapon_mp5sd',\n",
       "       'ct_weapon_mp7', 't_weapon_mp7', 'ct_weapon_mp9', 't_weapon_mp9',\n",
       "       'ct_weapon_negev', 't_weapon_negev', 'ct_weapon_nova', 't_weapon_nova',\n",
       "       'ct_weapon_p90', 't_weapon_p90', 'ct_weapon_r8revolver',\n",
       "       't_weapon_r8revolver', 'ct_weapon_sawedoff', 't_weapon_sawedoff',\n",
       "       'ct_weapon_scar20', 't_weapon_scar20', 'ct_weapon_sg553',\n",
       "       't_weapon_sg553', 'ct_weapon_ssg08', 't_weapon_ssg08',\n",
       "       'ct_weapon_ump45', 't_weapon_ump45', 'ct_weapon_xm1014',\n",
       "       't_weapon_xm1014', 'ct_weapon_deagle', 't_weapon_deagle',\n",
       "       'ct_weapon_fiveseven', 't_weapon_fiveseven', 'ct_weapon_usps',\n",
       "       't_weapon_usps', 'ct_weapon_p250', 't_weapon_p250', 'ct_weapon_p2000',\n",
       "       't_weapon_p2000', 'ct_weapon_tec9', 't_weapon_tec9',\n",
       "       'ct_grenade_hegrenade', 't_grenade_hegrenade', 'ct_grenade_flashbang',\n",
       "       't_grenade_flashbang', 'ct_grenade_smokegrenade',\n",
       "       't_grenade_smokegrenade', 'ct_grenade_incendiarygrenade',\n",
       "       't_grenade_incendiarygrenade', 'ct_grenade_molotovgrenade',\n",
       "       't_grenade_molotovgrenade', 'ct_grenade_decoygrenade',\n",
       "       't_grenade_decoygrenade', 'round_winner'],\n",
       "      dtype='object')"
      ]
     },
     "execution_count": 4,
     "metadata": {},
     "output_type": "execute_result"
    }
   ],
   "source": [
    "df.columns"
   ]
  },
  {
   "cell_type": "code",
   "execution_count": 5,
   "id": "d9047e17",
   "metadata": {},
   "outputs": [
    {
     "name": "stdout",
     "output_type": "stream",
     "text": [
      "<class 'pandas.core.frame.DataFrame'>\n",
      "RangeIndex: 122410 entries, 0 to 122409\n",
      "Data columns (total 97 columns):\n",
      " #   Column                        Non-Null Count   Dtype  \n",
      "---  ------                        --------------   -----  \n",
      " 0   time_left                     122410 non-null  float64\n",
      " 1   ct_score                      122410 non-null  int64  \n",
      " 2   t_score                       122410 non-null  int64  \n",
      " 3   map                           122410 non-null  object \n",
      " 4   bomb_planted                  122410 non-null  bool   \n",
      " 5   ct_health                     122410 non-null  int64  \n",
      " 6   t_health                      122410 non-null  int64  \n",
      " 7   ct_armor                      122410 non-null  int64  \n",
      " 8   t_armor                       122410 non-null  int64  \n",
      " 9   ct_money                      122410 non-null  int64  \n",
      " 10  t_money                       122410 non-null  int64  \n",
      " 11  ct_helmets                    122410 non-null  int64  \n",
      " 12  t_helmets                     122410 non-null  int64  \n",
      " 13  ct_defuse_kits                122410 non-null  int64  \n",
      " 14  ct_players_alive              122410 non-null  int64  \n",
      " 15  t_players_alive               122410 non-null  int64  \n",
      " 16  ct_weapon_ak47                122410 non-null  int64  \n",
      " 17  t_weapon_ak47                 122410 non-null  int64  \n",
      " 18  ct_weapon_aug                 122410 non-null  int64  \n",
      " 19  t_weapon_aug                  122410 non-null  int64  \n",
      " 20  ct_weapon_awp                 122410 non-null  int64  \n",
      " 21  t_weapon_awp                  122410 non-null  int64  \n",
      " 22  ct_weapon_bizon               122410 non-null  int64  \n",
      " 23  t_weapon_bizon                122410 non-null  int64  \n",
      " 24  ct_weapon_cz75auto            122410 non-null  int64  \n",
      " 25  t_weapon_cz75auto             122410 non-null  int64  \n",
      " 26  ct_weapon_elite               122410 non-null  int64  \n",
      " 27  t_weapon_elite                122410 non-null  int64  \n",
      " 28  ct_weapon_famas               122410 non-null  int64  \n",
      " 29  t_weapon_famas                122410 non-null  int64  \n",
      " 30  ct_weapon_g3sg1               122410 non-null  int64  \n",
      " 31  t_weapon_g3sg1                122410 non-null  int64  \n",
      " 32  ct_weapon_galilar             122410 non-null  int64  \n",
      " 33  t_weapon_galilar              122410 non-null  int64  \n",
      " 34  ct_weapon_glock               122410 non-null  int64  \n",
      " 35  t_weapon_glock                122410 non-null  int64  \n",
      " 36  ct_weapon_m249                122410 non-null  int64  \n",
      " 37  t_weapon_m249                 122410 non-null  int64  \n",
      " 38  ct_weapon_m4a1s               122410 non-null  int64  \n",
      " 39  t_weapon_m4a1s                122410 non-null  int64  \n",
      " 40  ct_weapon_m4a4                122410 non-null  int64  \n",
      " 41  t_weapon_m4a4                 122410 non-null  int64  \n",
      " 42  ct_weapon_mac10               122410 non-null  int64  \n",
      " 43  t_weapon_mac10                122410 non-null  int64  \n",
      " 44  ct_weapon_mag7                122410 non-null  int64  \n",
      " 45  t_weapon_mag7                 122410 non-null  int64  \n",
      " 46  ct_weapon_mp5sd               122410 non-null  int64  \n",
      " 47  t_weapon_mp5sd                122410 non-null  int64  \n",
      " 48  ct_weapon_mp7                 122410 non-null  int64  \n",
      " 49  t_weapon_mp7                  122410 non-null  int64  \n",
      " 50  ct_weapon_mp9                 122410 non-null  int64  \n",
      " 51  t_weapon_mp9                  122410 non-null  int64  \n",
      " 52  ct_weapon_negev               122410 non-null  int64  \n",
      " 53  t_weapon_negev                122410 non-null  int64  \n",
      " 54  ct_weapon_nova                122410 non-null  int64  \n",
      " 55  t_weapon_nova                 122410 non-null  int64  \n",
      " 56  ct_weapon_p90                 122410 non-null  int64  \n",
      " 57  t_weapon_p90                  122410 non-null  int64  \n",
      " 58  ct_weapon_r8revolver          122410 non-null  int64  \n",
      " 59  t_weapon_r8revolver           122410 non-null  int64  \n",
      " 60  ct_weapon_sawedoff            122410 non-null  int64  \n",
      " 61  t_weapon_sawedoff             122410 non-null  int64  \n",
      " 62  ct_weapon_scar20              122410 non-null  int64  \n",
      " 63  t_weapon_scar20               122410 non-null  int64  \n",
      " 64  ct_weapon_sg553               122410 non-null  int64  \n",
      " 65  t_weapon_sg553                122410 non-null  int64  \n",
      " 66  ct_weapon_ssg08               122410 non-null  int64  \n",
      " 67  t_weapon_ssg08                122410 non-null  int64  \n",
      " 68  ct_weapon_ump45               122410 non-null  int64  \n",
      " 69  t_weapon_ump45                122410 non-null  int64  \n",
      " 70  ct_weapon_xm1014              122410 non-null  int64  \n",
      " 71  t_weapon_xm1014               122410 non-null  int64  \n",
      " 72  ct_weapon_deagle              122410 non-null  int64  \n",
      " 73  t_weapon_deagle               122410 non-null  int64  \n",
      " 74  ct_weapon_fiveseven           122410 non-null  int64  \n",
      " 75  t_weapon_fiveseven            122410 non-null  int64  \n",
      " 76  ct_weapon_usps                122410 non-null  int64  \n",
      " 77  t_weapon_usps                 122410 non-null  int64  \n",
      " 78  ct_weapon_p250                122410 non-null  int64  \n",
      " 79  t_weapon_p250                 122410 non-null  int64  \n",
      " 80  ct_weapon_p2000               122410 non-null  int64  \n",
      " 81  t_weapon_p2000                122410 non-null  int64  \n",
      " 82  ct_weapon_tec9                122410 non-null  int64  \n",
      " 83  t_weapon_tec9                 122410 non-null  int64  \n",
      " 84  ct_grenade_hegrenade          122410 non-null  int64  \n",
      " 85  t_grenade_hegrenade           122410 non-null  int64  \n",
      " 86  ct_grenade_flashbang          122410 non-null  int64  \n",
      " 87  t_grenade_flashbang           122410 non-null  int64  \n",
      " 88  ct_grenade_smokegrenade       122410 non-null  int64  \n",
      " 89  t_grenade_smokegrenade        122410 non-null  int64  \n",
      " 90  ct_grenade_incendiarygrenade  122410 non-null  int64  \n",
      " 91  t_grenade_incendiarygrenade   122410 non-null  int64  \n",
      " 92  ct_grenade_molotovgrenade     122410 non-null  int64  \n",
      " 93  t_grenade_molotovgrenade      122410 non-null  int64  \n",
      " 94  ct_grenade_decoygrenade       122410 non-null  int64  \n",
      " 95  t_grenade_decoygrenade        122410 non-null  int64  \n",
      " 96  round_winner                  122410 non-null  object \n",
      "dtypes: bool(1), float64(1), int64(93), object(2)\n",
      "memory usage: 89.8+ MB\n"
     ]
    }
   ],
   "source": [
    "df.info()"
   ]
  },
  {
   "cell_type": "code",
   "execution_count": 6,
   "id": "789010b7",
   "metadata": {},
   "outputs": [
    {
     "data": {
      "text/plain": [
       "<bound method NDFrame._add_numeric_operations.<locals>.sum of         time_left  ct_score  t_score    map  bomb_planted  ct_health  \\\n",
       "0           False     False    False  False         False      False   \n",
       "1           False     False    False  False         False      False   \n",
       "2           False     False    False  False         False      False   \n",
       "3           False     False    False  False         False      False   \n",
       "4           False     False    False  False         False      False   \n",
       "...           ...       ...      ...    ...           ...        ...   \n",
       "122405      False     False    False  False         False      False   \n",
       "122406      False     False    False  False         False      False   \n",
       "122407      False     False    False  False         False      False   \n",
       "122408      False     False    False  False         False      False   \n",
       "122409      False     False    False  False         False      False   \n",
       "\n",
       "        t_health  ct_armor  t_armor  ct_money  ...  t_grenade_flashbang  \\\n",
       "0          False     False    False     False  ...                False   \n",
       "1          False     False    False     False  ...                False   \n",
       "2          False     False    False     False  ...                False   \n",
       "3          False     False    False     False  ...                False   \n",
       "4          False     False    False     False  ...                False   \n",
       "...          ...       ...      ...       ...  ...                  ...   \n",
       "122405     False     False    False     False  ...                False   \n",
       "122406     False     False    False     False  ...                False   \n",
       "122407     False     False    False     False  ...                False   \n",
       "122408     False     False    False     False  ...                False   \n",
       "122409     False     False    False     False  ...                False   \n",
       "\n",
       "        ct_grenade_smokegrenade  t_grenade_smokegrenade  \\\n",
       "0                         False                   False   \n",
       "1                         False                   False   \n",
       "2                         False                   False   \n",
       "3                         False                   False   \n",
       "4                         False                   False   \n",
       "...                         ...                     ...   \n",
       "122405                    False                   False   \n",
       "122406                    False                   False   \n",
       "122407                    False                   False   \n",
       "122408                    False                   False   \n",
       "122409                    False                   False   \n",
       "\n",
       "        ct_grenade_incendiarygrenade  t_grenade_incendiarygrenade  \\\n",
       "0                              False                        False   \n",
       "1                              False                        False   \n",
       "2                              False                        False   \n",
       "3                              False                        False   \n",
       "4                              False                        False   \n",
       "...                              ...                          ...   \n",
       "122405                         False                        False   \n",
       "122406                         False                        False   \n",
       "122407                         False                        False   \n",
       "122408                         False                        False   \n",
       "122409                         False                        False   \n",
       "\n",
       "        ct_grenade_molotovgrenade  t_grenade_molotovgrenade  \\\n",
       "0                           False                     False   \n",
       "1                           False                     False   \n",
       "2                           False                     False   \n",
       "3                           False                     False   \n",
       "4                           False                     False   \n",
       "...                           ...                       ...   \n",
       "122405                      False                     False   \n",
       "122406                      False                     False   \n",
       "122407                      False                     False   \n",
       "122408                      False                     False   \n",
       "122409                      False                     False   \n",
       "\n",
       "        ct_grenade_decoygrenade  t_grenade_decoygrenade  round_winner  \n",
       "0                         False                   False         False  \n",
       "1                         False                   False         False  \n",
       "2                         False                   False         False  \n",
       "3                         False                   False         False  \n",
       "4                         False                   False         False  \n",
       "...                         ...                     ...           ...  \n",
       "122405                    False                   False         False  \n",
       "122406                    False                   False         False  \n",
       "122407                    False                   False         False  \n",
       "122408                    False                   False         False  \n",
       "122409                    False                   False         False  \n",
       "\n",
       "[122410 rows x 97 columns]>"
      ]
     },
     "execution_count": 6,
     "metadata": {},
     "output_type": "execute_result"
    }
   ],
   "source": [
    "df.isna().sum"
   ]
  },
  {
   "cell_type": "code",
   "execution_count": 7,
   "id": "53b58fa7",
   "metadata": {},
   "outputs": [
    {
     "data": {
      "text/plain": [
       "0"
      ]
     },
     "execution_count": 7,
     "metadata": {},
     "output_type": "execute_result"
    }
   ],
   "source": [
    "df.isna().sum().sum()"
   ]
  },
  {
   "cell_type": "code",
   "execution_count": 8,
   "id": "722c3fad",
   "metadata": {},
   "outputs": [
    {
     "data": {
      "text/plain": [
       "4962"
      ]
     },
     "execution_count": 8,
     "metadata": {},
     "output_type": "execute_result"
    }
   ],
   "source": [
    "df.duplicated().sum()"
   ]
  },
  {
   "cell_type": "code",
   "execution_count": 9,
   "id": "aac6bad0",
   "metadata": {},
   "outputs": [],
   "source": [
    "df.drop_duplicates(inplace=True)"
   ]
  },
  {
   "cell_type": "code",
   "execution_count": 10,
   "id": "b931da21",
   "metadata": {},
   "outputs": [
    {
     "data": {
      "text/plain": [
       "0"
      ]
     },
     "execution_count": 10,
     "metadata": {},
     "output_type": "execute_result"
    }
   ],
   "source": [
    "df.duplicated().sum()"
   ]
  },
  {
   "cell_type": "code",
   "execution_count": 11,
   "id": "bcb8de01",
   "metadata": {},
   "outputs": [
    {
     "data": {
      "text/plain": [
       "array(['de_dust2', 'de_mirage', 'de_nuke', 'de_inferno', 'de_overpass',\n",
       "       'de_vertigo', 'de_train', 'de_cache'], dtype=object)"
      ]
     },
     "execution_count": 11,
     "metadata": {},
     "output_type": "execute_result"
    }
   ],
   "source": [
    "df['map'].unique()"
   ]
  },
  {
   "cell_type": "code",
   "execution_count": 12,
   "id": "09c4c986",
   "metadata": {},
   "outputs": [
    {
     "data": {
      "text/plain": [
       "8"
      ]
     },
     "execution_count": 12,
     "metadata": {},
     "output_type": "execute_result"
    }
   ],
   "source": [
    "df['map'].nunique()"
   ]
  },
  {
   "cell_type": "code",
   "execution_count": 13,
   "id": "1b3907ab",
   "metadata": {},
   "outputs": [
    {
     "data": {
      "text/plain": [
       "map\n",
       "de_inferno     22982\n",
       "de_dust2       21252\n",
       "de_nuke        18078\n",
       "de_mirage      17793\n",
       "de_overpass    13474\n",
       "de_train       12919\n",
       "de_vertigo     10805\n",
       "de_cache         145\n",
       "Name: count, dtype: int64"
      ]
     },
     "execution_count": 13,
     "metadata": {},
     "output_type": "execute_result"
    }
   ],
   "source": [
    "# plot a bar plot of percentage% of occurance of different maps in data\n",
    "\n",
    "df['map'].value_counts()"
   ]
  },
  {
   "cell_type": "code",
   "execution_count": 14,
   "id": "cad6378f",
   "metadata": {},
   "outputs": [],
   "source": [
    "counts = df['map'].value_counts()\n",
    "total = counts.sum()"
   ]
  },
  {
   "cell_type": "code",
   "execution_count": 15,
   "id": "f08cef9e",
   "metadata": {},
   "outputs": [
    {
     "name": "stdout",
     "output_type": "stream",
     "text": [
      "map\n",
      "de_inferno     22982\n",
      "de_dust2       21252\n",
      "de_nuke        18078\n",
      "de_mirage      17793\n",
      "de_overpass    13474\n",
      "de_train       12919\n",
      "de_vertigo     10805\n",
      "de_cache         145\n",
      "Name: count, dtype: int64\n",
      "117448\n"
     ]
    },
    {
     "data": {
      "text/plain": [
       "map\n",
       "de_inferno     19.567809\n",
       "de_dust2       18.094816\n",
       "de_nuke        15.392344\n",
       "de_mirage      15.149683\n",
       "de_overpass    11.472311\n",
       "de_train       10.999762\n",
       "de_vertigo      9.199816\n",
       "de_cache        0.123459\n",
       "Name: count, dtype: float64"
      ]
     },
     "execution_count": 15,
     "metadata": {},
     "output_type": "execute_result"
    }
   ],
   "source": [
    "print(counts)\n",
    "print(total)\n",
    "percentage = (counts/total)*100\n",
    "percentage "
   ]
  },
  {
   "cell_type": "code",
   "execution_count": 16,
   "id": "5c7d803d",
   "metadata": {},
   "outputs": [
    {
     "name": "stdout",
     "output_type": "stream",
     "text": [
      "de_inferno percentage is : 19.567808732375177\n",
      "de_dust2 percentage is : 18.09481642939854\n",
      "de_nuke percentage is : 15.392343845787071\n",
      "de_mirage percentage is : 15.149683264082828\n",
      "de_overpass percentage is : 11.47231115046659\n",
      "de_train percentage is : 10.999761596621484\n",
      "de_vertigo percentage is : 9.199816088822288\n",
      "de_cache percentage is : 0.12345889244601865\n"
     ]
    }
   ],
   "source": [
    "for map_name, count, percent in zip (counts.index, counts.values, percentage.values):\n",
    "    print(f'{map_name} percentage is : {percent}')"
   ]
  },
  {
   "cell_type": "code",
   "execution_count": 17,
   "id": "34a9c9c1",
   "metadata": {},
   "outputs": [
    {
     "data": {
      "image/png": "[encoded data removed]",
      "text/plain": [
       "<Figure size 640x480 with 1 Axes>"
      ]
     },
     "metadata": {},
     "output_type": "display_data"
    }
   ],
   "source": [
    "plt.bar(percentage.index, percentage.values)\n",
    "plt.xticks(rotation =90)\n",
    "plt.xlabel('Map Name')\n",
    "plt.ylabel('Percentage')\n",
    "plt.show()"
   ]
  },
  {
   "cell_type": "markdown",
   "id": "800f4611",
   "metadata": {},
   "source": [
    "#### According the plot above df_inferno is the map mostly occuring in the dataset"
   ]
  },
  {
   "cell_type": "markdown",
   "id": "816c7c50",
   "metadata": {},
   "source": [
    "## Step:2) Pre-Processing\n",
    "\n",
    "- Label Encoding"
   ]
  },
  {
   "cell_type": "code",
   "execution_count": 18,
   "id": "020e8398",
   "metadata": {},
   "outputs": [
    {
     "name": "stdout",
     "output_type": "stream",
     "text": [
      "<class 'pandas.core.frame.DataFrame'>\n",
      "Index: 117448 entries, 0 to 122409\n",
      "Data columns (total 97 columns):\n",
      " #   Column                        Non-Null Count   Dtype  \n",
      "---  ------                        --------------   -----  \n",
      " 0   time_left                     117448 non-null  float64\n",
      " 1   ct_score                      117448 non-null  int64  \n",
      " 2   t_score                       117448 non-null  int64  \n",
      " 3   map                           117448 non-null  object \n",
      " 4   bomb_planted                  117448 non-null  bool   \n",
      " 5   ct_health                     117448 non-null  int64  \n",
      " 6   t_health                      117448 non-null  int64  \n",
      " 7   ct_armor                      117448 non-null  int64  \n",
      " 8   t_armor                       117448 non-null  int64  \n",
      " 9   ct_money                      117448 non-null  int64  \n",
      " 10  t_money                       117448 non-null  int64  \n",
      " 11  ct_helmets                    117448 non-null  int64  \n",
      " 12  t_helmets                     117448 non-null  int64  \n",
      " 13  ct_defuse_kits                117448 non-null  int64  \n",
      " 14  ct_players_alive              117448 non-null  int64  \n",
      " 15  t_players_alive               117448 non-null  int64  \n",
      " 16  ct_weapon_ak47                117448 non-null  int64  \n",
      " 17  t_weapon_ak47                 117448 non-null  int64  \n",
      " 18  ct_weapon_aug                 117448 non-null  int64  \n",
      " 19  t_weapon_aug                  117448 non-null  int64  \n",
      " 20  ct_weapon_awp                 117448 non-null  int64  \n",
      " 21  t_weapon_awp                  117448 non-null  int64  \n",
      " 22  ct_weapon_bizon               117448 non-null  int64  \n",
      " 23  t_weapon_bizon                117448 non-null  int64  \n",
      " 24  ct_weapon_cz75auto            117448 non-null  int64  \n",
      " 25  t_weapon_cz75auto             117448 non-null  int64  \n",
      " 26  ct_weapon_elite               117448 non-null  int64  \n",
      " 27  t_weapon_elite                117448 non-null  int64  \n",
      " 28  ct_weapon_famas               117448 non-null  int64  \n",
      " 29  t_weapon_famas                117448 non-null  int64  \n",
      " 30  ct_weapon_g3sg1               117448 non-null  int64  \n",
      " 31  t_weapon_g3sg1                117448 non-null  int64  \n",
      " 32  ct_weapon_galilar             117448 non-null  int64  \n",
      " 33  t_weapon_galilar              117448 non-null  int64  \n",
      " 34  ct_weapon_glock               117448 non-null  int64  \n",
      " 35  t_weapon_glock                117448 non-null  int64  \n",
      " 36  ct_weapon_m249                117448 non-null  int64  \n",
      " 37  t_weapon_m249                 117448 non-null  int64  \n",
      " 38  ct_weapon_m4a1s               117448 non-null  int64  \n",
      " 39  t_weapon_m4a1s                117448 non-null  int64  \n",
      " 40  ct_weapon_m4a4                117448 non-null  int64  \n",
      " 41  t_weapon_m4a4                 117448 non-null  int64  \n",
      " 42  ct_weapon_mac10               117448 non-null  int64  \n",
      " 43  t_weapon_mac10                117448 non-null  int64  \n",
      " 44  ct_weapon_mag7                117448 non-null  int64  \n",
      " 45  t_weapon_mag7                 117448 non-null  int64  \n",
      " 46  ct_weapon_mp5sd               117448 non-null  int64  \n",
      " 47  t_weapon_mp5sd                117448 non-null  int64  \n",
      " 48  ct_weapon_mp7                 117448 non-null  int64  \n",
      " 49  t_weapon_mp7                  117448 non-null  int64  \n",
      " 50  ct_weapon_mp9                 117448 non-null  int64  \n",
      " 51  t_weapon_mp9                  117448 non-null  int64  \n",
      " 52  ct_weapon_negev               117448 non-null  int64  \n",
      " 53  t_weapon_negev                117448 non-null  int64  \n",
      " 54  ct_weapon_nova                117448 non-null  int64  \n",
      " 55  t_weapon_nova                 117448 non-null  int64  \n",
      " 56  ct_weapon_p90                 117448 non-null  int64  \n",
      " 57  t_weapon_p90                  117448 non-null  int64  \n",
      " 58  ct_weapon_r8revolver          117448 non-null  int64  \n",
      " 59  t_weapon_r8revolver           117448 non-null  int64  \n",
      " 60  ct_weapon_sawedoff            117448 non-null  int64  \n",
      " 61  t_weapon_sawedoff             117448 non-null  int64  \n",
      " 62  ct_weapon_scar20              117448 non-null  int64  \n",
      " 63  t_weapon_scar20               117448 non-null  int64  \n",
      " 64  ct_weapon_sg553               117448 non-null  int64  \n",
      " 65  t_weapon_sg553                117448 non-null  int64  \n",
      " 66  ct_weapon_ssg08               117448 non-null  int64  \n",
      " 67  t_weapon_ssg08                117448 non-null  int64  \n",
      " 68  ct_weapon_ump45               117448 non-null  int64  \n",
      " 69  t_weapon_ump45                117448 non-null  int64  \n",
      " 70  ct_weapon_xm1014              117448 non-null  int64  \n",
      " 71  t_weapon_xm1014               117448 non-null  int64  \n",
      " 72  ct_weapon_deagle              117448 non-null  int64  \n",
      " 73  t_weapon_deagle               117448 non-null  int64  \n",
      " 74  ct_weapon_fiveseven           117448 non-null  int64  \n",
      " 75  t_weapon_fiveseven            117448 non-null  int64  \n",
      " 76  ct_weapon_usps                117448 non-null  int64  \n",
      " 77  t_weapon_usps                 117448 non-null  int64  \n",
      " 78  ct_weapon_p250                117448 non-null  int64  \n",
      " 79  t_weapon_p250                 117448 non-null  int64  \n",
      " 80  ct_weapon_p2000               117448 non-null  int64  \n",
      " 81  t_weapon_p2000                117448 non-null  int64  \n",
      " 82  ct_weapon_tec9                117448 non-null  int64  \n",
      " 83  t_weapon_tec9                 117448 non-null  int64  \n",
      " 84  ct_grenade_hegrenade          117448 non-null  int64  \n",
      " 85  t_grenade_hegrenade           117448 non-null  int64  \n",
      " 86  ct_grenade_flashbang          117448 non-null  int64  \n",
      " 87  t_grenade_flashbang           117448 non-null  int64  \n",
      " 88  ct_grenade_smokegrenade       117448 non-null  int64  \n",
      " 89  t_grenade_smokegrenade        117448 non-null  int64  \n",
      " 90  ct_grenade_incendiarygrenade  117448 non-null  int64  \n",
      " 91  t_grenade_incendiarygrenade   117448 non-null  int64  \n",
      " 92  ct_grenade_molotovgrenade     117448 non-null  int64  \n",
      " 93  t_grenade_molotovgrenade      117448 non-null  int64  \n",
      " 94  ct_grenade_decoygrenade       117448 non-null  int64  \n",
      " 95  t_grenade_decoygrenade        117448 non-null  int64  \n",
      " 96  round_winner                  117448 non-null  object \n",
      "dtypes: bool(1), float64(1), int64(93), object(2)\n",
      "memory usage: 87.0+ MB\n"
     ]
    }
   ],
   "source": [
    "df.info()"
   ]
  },
  {
   "cell_type": "code",
   "execution_count": 19,
   "id": "1aafa3d6",
   "metadata": {},
   "outputs": [],
   "source": [
    "col = ['map','bomb_planted','round_winner']\n"
   ]
  },
  {
   "cell_type": "code",
   "execution_count": 20,
   "id": "7af75e36",
   "metadata": {},
   "outputs": [],
   "source": [
    "from sklearn.preprocessing import LabelEncoder\n",
    "le = LabelEncoder()"
   ]
  },
  {
   "cell_type": "code",
   "execution_count": 21,
   "id": "8bb64b69",
   "metadata": {},
   "outputs": [],
   "source": [
    "for i in col:\n",
    "    df[i] = le.fit_transform(df[i])\n",
    "# le.fit_transform(df[i])(inplace = True)"
   ]
  },
  {
   "cell_type": "code",
   "execution_count": 22,
   "id": "efe2baa5",
   "metadata": {},
   "outputs": [
    {
     "name": "stdout",
     "output_type": "stream",
     "text": [
      "<class 'pandas.core.frame.DataFrame'>\n",
      "Index: 117448 entries, 0 to 122409\n",
      "Data columns (total 97 columns):\n",
      " #   Column                        Non-Null Count   Dtype  \n",
      "---  ------                        --------------   -----  \n",
      " 0   time_left                     117448 non-null  float64\n",
      " 1   ct_score                      117448 non-null  int64  \n",
      " 2   t_score                       117448 non-null  int64  \n",
      " 3   map                           117448 non-null  int32  \n",
      " 4   bomb_planted                  117448 non-null  int64  \n",
      " 5   ct_health                     117448 non-null  int64  \n",
      " 6   t_health                      117448 non-null  int64  \n",
      " 7   ct_armor                      117448 non-null  int64  \n",
      " 8   t_armor                       117448 non-null  int64  \n",
      " 9   ct_money                      117448 non-null  int64  \n",
      " 10  t_money                       117448 non-null  int64  \n",
      " 11  ct_helmets                    117448 non-null  int64  \n",
      " 12  t_helmets                     117448 non-null  int64  \n",
      " 13  ct_defuse_kits                117448 non-null  int64  \n",
      " 14  ct_players_alive              117448 non-null  int64  \n",
      " 15  t_players_alive               117448 non-null  int64  \n",
      " 16  ct_weapon_ak47                117448 non-null  int64  \n",
      " 17  t_weapon_ak47                 117448 non-null  int64  \n",
      " 18  ct_weapon_aug                 117448 non-null  int64  \n",
      " 19  t_weapon_aug                  117448 non-null  int64  \n",
      " 20  ct_weapon_awp                 117448 non-null  int64  \n",
      " 21  t_weapon_awp                  117448 non-null  int64  \n",
      " 22  ct_weapon_bizon               117448 non-null  int64  \n",
      " 23  t_weapon_bizon                117448 non-null  int64  \n",
      " 24  ct_weapon_cz75auto            117448 non-null  int64  \n",
      " 25  t_weapon_cz75auto             117448 non-null  int64  \n",
      " 26  ct_weapon_elite               117448 non-null  int64  \n",
      " 27  t_weapon_elite                117448 non-null  int64  \n",
      " 28  ct_weapon_famas               117448 non-null  int64  \n",
      " 29  t_weapon_famas                117448 non-null  int64  \n",
      " 30  ct_weapon_g3sg1               117448 non-null  int64  \n",
      " 31  t_weapon_g3sg1                117448 non-null  int64  \n",
      " 32  ct_weapon_galilar             117448 non-null  int64  \n",
      " 33  t_weapon_galilar              117448 non-null  int64  \n",
      " 34  ct_weapon_glock               117448 non-null  int64  \n",
      " 35  t_weapon_glock                117448 non-null  int64  \n",
      " 36  ct_weapon_m249                117448 non-null  int64  \n",
      " 37  t_weapon_m249                 117448 non-null  int64  \n",
      " 38  ct_weapon_m4a1s               117448 non-null  int64  \n",
      " 39  t_weapon_m4a1s                117448 non-null  int64  \n",
      " 40  ct_weapon_m4a4                117448 non-null  int64  \n",
      " 41  t_weapon_m4a4                 117448 non-null  int64  \n",
      " 42  ct_weapon_mac10               117448 non-null  int64  \n",
      " 43  t_weapon_mac10                117448 non-null  int64  \n",
      " 44  ct_weapon_mag7                117448 non-null  int64  \n",
      " 45  t_weapon_mag7                 117448 non-null  int64  \n",
      " 46  ct_weapon_mp5sd               117448 non-null  int64  \n",
      " 47  t_weapon_mp5sd                117448 non-null  int64  \n",
      " 48  ct_weapon_mp7                 117448 non-null  int64  \n",
      " 49  t_weapon_mp7                  117448 non-null  int64  \n",
      " 50  ct_weapon_mp9                 117448 non-null  int64  \n",
      " 51  t_weapon_mp9                  117448 non-null  int64  \n",
      " 52  ct_weapon_negev               117448 non-null  int64  \n",
      " 53  t_weapon_negev                117448 non-null  int64  \n",
      " 54  ct_weapon_nova                117448 non-null  int64  \n",
      " 55  t_weapon_nova                 117448 non-null  int64  \n",
      " 56  ct_weapon_p90                 117448 non-null  int64  \n",
      " 57  t_weapon_p90                  117448 non-null  int64  \n",
      " 58  ct_weapon_r8revolver          117448 non-null  int64  \n",
      " 59  t_weapon_r8revolver           117448 non-null  int64  \n",
      " 60  ct_weapon_sawedoff            117448 non-null  int64  \n",
      " 61  t_weapon_sawedoff             117448 non-null  int64  \n",
      " 62  ct_weapon_scar20              117448 non-null  int64  \n",
      " 63  t_weapon_scar20               117448 non-null  int64  \n",
      " 64  ct_weapon_sg553               117448 non-null  int64  \n",
      " 65  t_weapon_sg553                117448 non-null  int64  \n",
      " 66  ct_weapon_ssg08               117448 non-null  int64  \n",
      " 67  t_weapon_ssg08                117448 non-null  int64  \n",
      " 68  ct_weapon_ump45               117448 non-null  int64  \n",
      " 69  t_weapon_ump45                117448 non-null  int64  \n",
      " 70  ct_weapon_xm1014              117448 non-null  int64  \n",
      " 71  t_weapon_xm1014               117448 non-null  int64  \n",
      " 72  ct_weapon_deagle              117448 non-null  int64  \n",
      " 73  t_weapon_deagle               117448 non-null  int64  \n",
      " 74  ct_weapon_fiveseven           117448 non-null  int64  \n",
      " 75  t_weapon_fiveseven            117448 non-null  int64  \n",
      " 76  ct_weapon_usps                117448 non-null  int64  \n",
      " 77  t_weapon_usps                 117448 non-null  int64  \n",
      " 78  ct_weapon_p250                117448 non-null  int64  \n",
      " 79  t_weapon_p250                 117448 non-null  int64  \n",
      " 80  ct_weapon_p2000               117448 non-null  int64  \n",
      " 81  t_weapon_p2000                117448 non-null  int64  \n",
      " 82  ct_weapon_tec9                117448 non-null  int64  \n",
      " 83  t_weapon_tec9                 117448 non-null  int64  \n",
      " 84  ct_grenade_hegrenade          117448 non-null  int64  \n",
      " 85  t_grenade_hegrenade           117448 non-null  int64  \n",
      " 86  ct_grenade_flashbang          117448 non-null  int64  \n",
      " 87  t_grenade_flashbang           117448 non-null  int64  \n",
      " 88  ct_grenade_smokegrenade       117448 non-null  int64  \n",
      " 89  t_grenade_smokegrenade        117448 non-null  int64  \n",
      " 90  ct_grenade_incendiarygrenade  117448 non-null  int64  \n",
      " 91  t_grenade_incendiarygrenade   117448 non-null  int64  \n",
      " 92  ct_grenade_molotovgrenade     117448 non-null  int64  \n",
      " 93  t_grenade_molotovgrenade      117448 non-null  int64  \n",
      " 94  ct_grenade_decoygrenade       117448 non-null  int64  \n",
      " 95  t_grenade_decoygrenade        117448 non-null  int64  \n",
      " 96  round_winner                  117448 non-null  int32  \n",
      "dtypes: float64(1), int32(2), int64(94)\n",
      "memory usage: 86.9 MB\n"
     ]
    }
   ],
   "source": [
    "df.info()"
   ]
  },
  {
   "cell_type": "code",
   "execution_count": 23,
   "id": "9edfdc43",
   "metadata": {},
   "outputs": [
    {
     "data": {
      "text/plain": [
       "array([1, 3, 4, 2, 5, 7, 6, 0])"
      ]
     },
     "execution_count": 23,
     "metadata": {},
     "output_type": "execute_result"
    }
   ],
   "source": [
    "df['map'].unique()"
   ]
  },
  {
   "cell_type": "code",
   "execution_count": 24,
   "id": "417b6cf4",
   "metadata": {},
   "outputs": [
    {
     "data": {
      "text/plain": [
       "array([0, 1], dtype=int64)"
      ]
     },
     "execution_count": 24,
     "metadata": {},
     "output_type": "execute_result"
    }
   ],
   "source": [
    "df['bomb_planted'].unique()"
   ]
  },
  {
   "cell_type": "code",
   "execution_count": 25,
   "id": "5e17295c",
   "metadata": {},
   "outputs": [
    {
     "data": {
      "text/plain": [
       "array([0, 1])"
      ]
     },
     "execution_count": 25,
     "metadata": {},
     "output_type": "execute_result"
    }
   ],
   "source": [
    "df['round_winner'].unique()"
   ]
  },
  {
   "cell_type": "markdown",
   "id": "d9ad5c27",
   "metadata": {},
   "source": [
    "**Pre-Processing : Standardization**"
   ]
  },
  {
   "cell_type": "code",
   "execution_count": 26,
   "id": "61c93e56",
   "metadata": {},
   "outputs": [],
   "source": [
    "x = df.iloc[:, :-1]    # Independant Features [rows, columns except -1]\n",
    "y = df.iloc[:, -1]    # Dependant Features  [rows, -1 column only] \n"
   ]
  },
  {
   "cell_type": "code",
   "execution_count": 27,
   "id": "1a4a2d0b",
   "metadata": {},
   "outputs": [],
   "source": [
    "from sklearn.model_selection import train_test_split\n",
    "X_train, X_test, y_train, y_test = train_test_split(x,y,test_size=0.20,random_state=0)"
   ]
  },
  {
   "cell_type": "code",
   "execution_count": 28,
   "id": "b12696c6",
   "metadata": {},
   "outputs": [],
   "source": [
    "from sklearn.preprocessing  import StandardScaler\n",
    "\n",
    "sc = StandardScaler()"
   ]
  },
  {
   "cell_type": "code",
   "execution_count": 29,
   "id": "9999c526",
   "metadata": {},
   "outputs": [],
   "source": [
    "X_train = sc.fit_transform(X_train)\n",
    "X_test = sc.fit_transform(X_test)"
   ]
  },
  {
   "cell_type": "code",
   "execution_count": 30,
   "id": "e6f18096",
   "metadata": {},
   "outputs": [
    {
     "data": {
      "text/plain": [
       "array([[-0.39531993,  1.50385553, -0.17324866, ..., -0.23279969,\n",
       "        -0.16365591, -0.15395988],\n",
       "       [ 0.28553596, -1.40971574, -1.21004374, ...,  0.96171704,\n",
       "        -0.16365591, -0.15395988],\n",
       "       [-0.74861371, -0.16104234,  0.86354643, ..., -0.23279969,\n",
       "        -0.16365591, -0.15395988],\n",
       "       ...,\n",
       "       [-1.27151104, -0.78537904, -1.00268473, ..., -0.83005805,\n",
       "        -0.16365591, -0.15395988],\n",
       "       [-0.74748678, -0.57726681, -0.79532571, ..., -0.83005805,\n",
       "        -0.16365591, -0.15395988],\n",
       "       [ 0.00211209, -0.99349127,  0.44882839, ...,  0.96171704,\n",
       "        -0.16365591, -0.15395988]])"
      ]
     },
     "execution_count": 30,
     "metadata": {},
     "output_type": "execute_result"
    }
   ],
   "source": [
    "X_train"
   ]
  },
  {
   "cell_type": "code",
   "execution_count": 31,
   "id": "d6b6efcc",
   "metadata": {},
   "outputs": [
    {
     "data": {
      "text/plain": [
       "array([[ 1.36777215,  1.72156096,  0.45121016, ..., -0.82621022,\n",
       "        -0.16146396, -0.15815702],\n",
       "       [-0.20526637,  1.9302991 ,  2.09337255, ...,  1.58236265,\n",
       "        -0.16146396, -0.15815702],\n",
       "       [ 1.51866043, -0.15708234, -1.39622254, ..., -0.82621022,\n",
       "        -0.16146396, -0.15815702],\n",
       "       ...,\n",
       "       [ 1.51715531, -1.20077306, -0.57514134, ..., -0.82621022,\n",
       "        -0.16146396, -0.15815702],\n",
       "       [ 0.38944416,  0.88660838,  1.27229136, ...,  2.18450587,\n",
       "        -0.16146396, -0.15815702],\n",
       "       [-0.45643326,  1.09534652, -0.57514134, ..., -0.82621022,\n",
       "        -0.16146396, -0.15815702]])"
      ]
     },
     "execution_count": 31,
     "metadata": {},
     "output_type": "execute_result"
    }
   ],
   "source": [
    "X_test"
   ]
  },
  {
   "cell_type": "code",
   "execution_count": 32,
   "id": "55b20260",
   "metadata": {},
   "outputs": [
    {
     "data": {
      "text/plain": [
       "(23490, 96)"
      ]
     },
     "execution_count": 32,
     "metadata": {},
     "output_type": "execute_result"
    }
   ],
   "source": [
    "X_test.shape"
   ]
  },
  {
   "cell_type": "code",
   "execution_count": 33,
   "id": "65d2d843",
   "metadata": {},
   "outputs": [
    {
     "data": {
      "text/plain": [
       "(93958, 96)"
      ]
     },
     "execution_count": 33,
     "metadata": {},
     "output_type": "execute_result"
    }
   ],
   "source": [
    "X_train.shape"
   ]
  },
  {
   "cell_type": "code",
   "execution_count": 34,
   "id": "043a678b",
   "metadata": {},
   "outputs": [
    {
     "data": {
      "text/plain": [
       "(93958,)"
      ]
     },
     "execution_count": 34,
     "metadata": {},
     "output_type": "execute_result"
    }
   ],
   "source": [
    "y_train.shape"
   ]
  },
  {
   "cell_type": "code",
   "execution_count": 35,
   "id": "1fd1f4de",
   "metadata": {},
   "outputs": [
    {
     "data": {
      "text/plain": [
       "(23490,)"
      ]
     },
     "execution_count": 35,
     "metadata": {},
     "output_type": "execute_result"
    }
   ],
   "source": [
    "y_test.shape"
   ]
  },
  {
   "cell_type": "markdown",
   "id": "6c881eba",
   "metadata": {},
   "source": [
    "## Step:3) Apply LDA"
   ]
  },
  {
   "cell_type": "code",
   "execution_count": 36,
   "id": "fa0263b9",
   "metadata": {},
   "outputs": [
    {
     "data": {
      "text/html": [
       "<style>#sk-container-id-1 {color: black;}#sk-container-id-1 pre{padding: 0;}#sk-container-id-1 div.sk-toggleable {background-color: white;}#sk-container-id-1 label.sk-toggleable__label {cursor: pointer;display: block;width: 100%;margin-bottom: 0;padding: 0.3em;box-sizing: border-box;text-align: center;}#sk-container-id-1 label.sk-toggleable__label-arrow:before {content: \"▸\";float: left;margin-right: 0.25em;color: #696969;}#sk-container-id-1 label.sk-toggleable__label-arrow:hover:before {color: black;}#sk-container-id-1 div.sk-estimator:hover label.sk-toggleable__label-arrow:before {color: black;}#sk-container-id-1 div.sk-toggleable__content {max-height: 0;max-width: 0;overflow: hidden;text-align: left;background-color: #f0f8ff;}#sk-container-id-1 div.sk-toggleable__content pre {margin: 0.2em;color: black;border-radius: 0.25em;background-color: #f0f8ff;}#sk-container-id-1 input.sk-toggleable__control:checked~div.sk-toggleable__content {max-height: 200px;max-width: 100%;overflow: auto;}#sk-container-id-1 input.sk-toggleable__control:checked~label.sk-toggleable__label-arrow:before {content: \"▾\";}#sk-container-id-1 div.sk-estimator input.sk-toggleable__control:checked~label.sk-toggleable__label {background-color: #d4ebff;}#sk-container-id-1 div.sk-label input.sk-toggleable__control:checked~label.sk-toggleable__label {background-color: #d4ebff;}#sk-container-id-1 input.sk-hidden--visually {border: 0;clip: rect(1px 1px 1px 1px);clip: rect(1px, 1px, 1px, 1px);height: 1px;margin: -1px;overflow: hidden;padding: 0;position: absolute;width: 1px;}#sk-container-id-1 div.sk-estimator {font-family: monospace;background-color: #f0f8ff;border: 1px dotted black;border-radius: 0.25em;box-sizing: border-box;margin-bottom: 0.5em;}#sk-container-id-1 div.sk-estimator:hover {background-color: #d4ebff;}#sk-container-id-1 div.sk-parallel-item::after {content: \"\";width: 100%;border-bottom: 1px solid gray;flex-grow: 1;}#sk-container-id-1 div.sk-label:hover label.sk-toggleable__label {background-color: #d4ebff;}#sk-container-id-1 div.sk-serial::before {content: \"\";position: absolute;border-left: 1px solid gray;box-sizing: border-box;top: 0;bottom: 0;left: 50%;z-index: 0;}#sk-container-id-1 div.sk-serial {display: flex;flex-direction: column;align-items: center;background-color: white;padding-right: 0.2em;padding-left: 0.2em;position: relative;}#sk-container-id-1 div.sk-item {position: relative;z-index: 1;}#sk-container-id-1 div.sk-parallel {display: flex;align-items: stretch;justify-content: center;background-color: white;position: relative;}#sk-container-id-1 div.sk-item::before, #sk-container-id-1 div.sk-parallel-item::before {content: \"\";position: absolute;border-left: 1px solid gray;box-sizing: border-box;top: 0;bottom: 0;left: 50%;z-index: -1;}#sk-container-id-1 div.sk-parallel-item {display: flex;flex-direction: column;z-index: 1;position: relative;background-color: white;}#sk-container-id-1 div.sk-parallel-item:first-child::after {align-self: flex-end;width: 50%;}#sk-container-id-1 div.sk-parallel-item:last-child::after {align-self: flex-start;width: 50%;}#sk-container-id-1 div.sk-parallel-item:only-child::after {width: 0;}#sk-container-id-1 div.sk-dashed-wrapped {border: 1px dashed gray;margin: 0 0.4em 0.5em 0.4em;box-sizing: border-box;padding-bottom: 0.4em;background-color: white;}#sk-container-id-1 div.sk-label label {font-family: monospace;font-weight: bold;display: inline-block;line-height: 1.2em;}#sk-container-id-1 div.sk-label-container {text-align: center;}#sk-container-id-1 div.sk-container {/* jupyter's `normalize.less` sets `[hidden] { display: none; }` but bootstrap.min.css set `[hidden] { display: none !important; }` so we also need the `!important` here to be able to override the default hidden behavior on the sphinx rendered scikit-learn.org. See: https://github.com/scikit-learn/scikit-learn/issues/21755 */display: inline-block !important;position: relative;}#sk-container-id-1 div.sk-text-repr-fallback {display: none;}</style><div id=\"sk-container-id-1\" class=\"sk-top-container\"><div class=\"sk-text-repr-fallback\"><pre>LinearDiscriminantAnalysis(n_components=1)</pre><b>In a Jupyter environment, please rerun this cell to show the HTML representation or trust the notebook. <br />On GitHub, the HTML representation is unable to render, please try loading this page with nbviewer.org.</b></div><div class=\"sk-container\" hidden><div class=\"sk-item\"><div class=\"sk-estimator sk-toggleable\"><input class=\"sk-toggleable__control sk-hidden--visually\" id=\"sk-estimator-id-1\" type=\"checkbox\" checked><label for=\"sk-estimator-id-1\" class=\"sk-toggleable__label sk-toggleable__label-arrow\">LinearDiscriminantAnalysis</label><div class=\"sk-toggleable__content\"><pre>LinearDiscriminantAnalysis(n_components=1)</pre></div></div></div></div></div>"
      ],
      "text/plain": [
       "LinearDiscriminantAnalysis(n_components=1)"
      ]
     },
     "execution_count": 36,
     "metadata": {},
     "output_type": "execute_result"
    }
   ],
   "source": [
    "from sklearn.discriminant_analysis import LinearDiscriminantAnalysis\n",
    "\n",
    "lda = LinearDiscriminantAnalysis(n_components = 1)\n",
    "lda.fit(X_train, y_train)"
   ]
  },
  {
   "cell_type": "code",
   "execution_count": 37,
   "id": "2ef85de4",
   "metadata": {},
   "outputs": [
    {
     "data": {
      "text/plain": [
       "array([[ 1.46068416e-01, -1.79981222e-02,  1.77351414e-02,\n",
       "        -8.67224071e-02,  2.40259891e-01, -4.36623808e-01,\n",
       "         3.17367726e-01, -6.02802675e-01,  6.19799392e-01,\n",
       "        -2.07677045e-01,  1.52433187e-01,  2.37444264e-02,\n",
       "         9.44009109e-02, -2.80523218e-02, -2.12077160e-01,\n",
       "         4.02809414e-01, -1.87828791e-01,  6.11511523e-01,\n",
       "        -2.05500466e-01,  3.73324030e-02, -3.14049691e-01,\n",
       "         2.57241803e-01, -1.54427353e-16, -1.92530779e-03,\n",
       "         7.37890721e-03, -1.13270537e-02, -4.57198660e-03,\n",
       "         1.52192197e-02, -1.37712411e-01,  4.56122855e-02,\n",
       "         1.10033367e-15,  2.38636046e-02, -5.53498462e-02,\n",
       "         1.36489653e-01,  2.18171571e-02, -1.83898210e-01,\n",
       "         1.13668700e-02, -1.32059552e-15, -9.43173777e-02,\n",
       "         4.47714845e-02, -4.57156908e-01,  1.08187526e-01,\n",
       "        -8.82351236e-03,  1.12137478e-01, -1.56867660e-02,\n",
       "         7.92363164e-03, -1.32619024e-02,  3.88951702e-02,\n",
       "         2.50057208e-03, -6.78499674e-03, -1.20220507e-01,\n",
       "         3.76060527e-02, -4.96513812e-17, -7.70683093e-03,\n",
       "        -2.15447850e-02, -1.99987360e-02, -2.34165187e-02,\n",
       "         2.06696118e-02, -9.58222720e-16, -7.04279876e-03,\n",
       "        -3.15457450e-16,  1.82004868e-02,  8.19837579e-03,\n",
       "        -1.24560115e-02, -2.13061500e-01,  5.63760675e-01,\n",
       "        -8.32922058e-02,  2.78466424e-02, -5.31104744e-02,\n",
       "         9.14125616e-02, -1.85604366e-02, -9.19582738e-04,\n",
       "         2.13592610e-02, -2.15105559e-02,  3.48811149e-02,\n",
       "        -3.49776635e-02,  1.18990932e-01,  3.17120993e-02,\n",
       "         5.50995913e-02, -3.14207279e-02,  5.34944511e-02,\n",
       "         1.28649194e-02, -5.56222108e-03,  9.48851127e-04,\n",
       "        -4.31588652e-03,  2.11486404e-04,  4.65895562e-02,\n",
       "        -1.87222611e-01,  4.85676622e-02, -2.45134632e-01,\n",
       "         1.08241557e-01, -1.02584579e-02,  1.21956573e-02,\n",
       "        -9.44356963e-02,  6.14627864e-03,  2.02646783e-02]])"
      ]
     },
     "execution_count": 37,
     "metadata": {},
     "output_type": "execute_result"
    }
   ],
   "source": [
    "# Coef is used to determine the importtance of a column in model building.\n",
    "# Higher the coef value, the more imprtant the feature is.\n",
    "# Used to decide the top features we can use to build the model.\n",
    "ldacoef = lda.coef_\n",
    "ldacoef"
   ]
  },
  {
   "cell_type": "code",
   "execution_count": 38,
   "id": "dc8e2957",
   "metadata": {},
   "outputs": [
    {
     "data": {
      "text/plain": [
       "array([1.15727536, 1.01816106, 1.01789334, 1.0905939 , 1.27157958,\n",
       "       1.54747382, 1.37350755, 1.82723277, 1.85855516, 1.23081561,\n",
       "       1.16466464, 1.02402857, 1.09900026, 1.02844949, 1.23624327,\n",
       "       1.49602174, 1.20662691, 1.84321536, 1.22813955, 1.03803801,\n",
       "       1.36895776, 1.29335783, 1.        , 1.00192716, 1.0074062 ,\n",
       "       1.01139145, 1.00458245, 1.01533562, 1.14764545, 1.04666852,\n",
       "       1.        , 1.02415062, 1.05691031, 1.14624302, 1.02205689,\n",
       "       1.20189348, 1.01143172, 1.        , 1.09890846, 1.04578885,\n",
       "       1.57957671, 1.11425668, 1.00886255, 1.11866664, 1.01581045,\n",
       "       1.00795511, 1.01335023, 1.03966149, 1.0025037 , 1.00680807,\n",
       "       1.1277455 , 1.03832211, 1.        , 1.0077366 , 1.02177855,\n",
       "       1.02020005, 1.02369284, 1.02088471, 1.        , 1.00706766,\n",
       "       1.        , 1.01836713, 1.00823207, 1.01253391, 1.23746075,\n",
       "       1.75726861, 1.08685935, 1.02823798, 1.05454614, 1.09572096,\n",
       "       1.01873375, 1.00092001, 1.021589  , 1.02174358, 1.0354966 ,\n",
       "       1.03559658, 1.1263597 , 1.03222029, 1.05664584, 1.03191957,\n",
       "       1.05495114, 1.01294803, 1.00557772, 1.0009493 , 1.00432521,\n",
       "       1.00021151, 1.0476919 , 1.2058957 , 1.0497664 , 1.27779333,\n",
       "       1.11431688, 1.01031126, 1.01227033, 1.09903849, 1.00616521,\n",
       "       1.0204714 ])"
      ]
     },
     "execution_count": 38,
     "metadata": {},
     "output_type": "execute_result"
    }
   ],
   "source": [
    "# Exponent use to neglect all negative values and reshape into 1D data\n",
    "ldacoef = np.exp(np.abs(lda.coef_))  \n",
    "ldacoef = ldacoef.flatten()       # use to convert any dimension into 1D\n",
    "ldacoef"
   ]
  },
  {
   "cell_type": "code",
   "execution_count": 39,
   "id": "8bee0123",
   "metadata": {},
   "outputs": [
    {
     "data": {
      "text/html": [
       "<div>\n",
       "<style scoped>\n",
       "    .dataframe tbody tr th:only-of-type {\n",
       "        vertical-align: middle;\n",
       "    }\n",
       "\n",
       "    .dataframe tbody tr th {\n",
       "        vertical-align: top;\n",
       "    }\n",
       "\n",
       "    .dataframe thead th {\n",
       "        text-align: right;\n",
       "    }\n",
       "</style>\n",
       "<table border=\"1\" class=\"dataframe\">\n",
       "  <thead>\n",
       "    <tr style=\"text-align: right;\">\n",
       "      <th></th>\n",
       "      <th>Features_name</th>\n",
       "      <th>Coef Value</th>\n",
       "    </tr>\n",
       "  </thead>\n",
       "  <tbody>\n",
       "    <tr>\n",
       "      <th>0</th>\n",
       "      <td>time_left</td>\n",
       "      <td>1.157275</td>\n",
       "    </tr>\n",
       "    <tr>\n",
       "      <th>1</th>\n",
       "      <td>ct_score</td>\n",
       "      <td>1.018161</td>\n",
       "    </tr>\n",
       "    <tr>\n",
       "      <th>2</th>\n",
       "      <td>t_score</td>\n",
       "      <td>1.017893</td>\n",
       "    </tr>\n",
       "    <tr>\n",
       "      <th>3</th>\n",
       "      <td>map</td>\n",
       "      <td>1.090594</td>\n",
       "    </tr>\n",
       "    <tr>\n",
       "      <th>4</th>\n",
       "      <td>bomb_planted</td>\n",
       "      <td>1.271580</td>\n",
       "    </tr>\n",
       "    <tr>\n",
       "      <th>...</th>\n",
       "      <td>...</td>\n",
       "      <td>...</td>\n",
       "    </tr>\n",
       "    <tr>\n",
       "      <th>91</th>\n",
       "      <td>t_grenade_incendiarygrenade</td>\n",
       "      <td>1.010311</td>\n",
       "    </tr>\n",
       "    <tr>\n",
       "      <th>92</th>\n",
       "      <td>ct_grenade_molotovgrenade</td>\n",
       "      <td>1.012270</td>\n",
       "    </tr>\n",
       "    <tr>\n",
       "      <th>93</th>\n",
       "      <td>t_grenade_molotovgrenade</td>\n",
       "      <td>1.099038</td>\n",
       "    </tr>\n",
       "    <tr>\n",
       "      <th>94</th>\n",
       "      <td>ct_grenade_decoygrenade</td>\n",
       "      <td>1.006165</td>\n",
       "    </tr>\n",
       "    <tr>\n",
       "      <th>95</th>\n",
       "      <td>t_grenade_decoygrenade</td>\n",
       "      <td>1.020471</td>\n",
       "    </tr>\n",
       "  </tbody>\n",
       "</table>\n",
       "<p>96 rows × 2 columns</p>\n",
       "</div>"
      ],
      "text/plain": [
       "                  Features_name  Coef Value\n",
       "0                     time_left    1.157275\n",
       "1                      ct_score    1.018161\n",
       "2                       t_score    1.017893\n",
       "3                           map    1.090594\n",
       "4                  bomb_planted    1.271580\n",
       "..                          ...         ...\n",
       "91  t_grenade_incendiarygrenade    1.010311\n",
       "92    ct_grenade_molotovgrenade    1.012270\n",
       "93     t_grenade_molotovgrenade    1.099038\n",
       "94      ct_grenade_decoygrenade    1.006165\n",
       "95       t_grenade_decoygrenade    1.020471\n",
       "\n",
       "[96 rows x 2 columns]"
      ]
     },
     "execution_count": 39,
     "metadata": {},
     "output_type": "execute_result"
    }
   ],
   "source": [
    "df_lda_features = pd.DataFrame()\n",
    "df_lda_features['Features_name'] = list(x.columns)\n",
    "df_lda_features['Coef Value'] = ldacoef\n",
    "df_lda_features"
   ]
  },
  {
   "cell_type": "code",
   "execution_count": 40,
   "id": "a9067c98",
   "metadata": {},
   "outputs": [
    {
     "data": {
      "text/html": [
       "<div>\n",
       "<style scoped>\n",
       "    .dataframe tbody tr th:only-of-type {\n",
       "        vertical-align: middle;\n",
       "    }\n",
       "\n",
       "    .dataframe tbody tr th {\n",
       "        vertical-align: top;\n",
       "    }\n",
       "\n",
       "    .dataframe thead th {\n",
       "        text-align: right;\n",
       "    }\n",
       "</style>\n",
       "<table border=\"1\" class=\"dataframe\">\n",
       "  <thead>\n",
       "    <tr style=\"text-align: right;\">\n",
       "      <th></th>\n",
       "      <th>Features_name</th>\n",
       "      <th>Coef Value</th>\n",
       "    </tr>\n",
       "  </thead>\n",
       "  <tbody>\n",
       "    <tr>\n",
       "      <th>8</th>\n",
       "      <td>t_armor</td>\n",
       "      <td>1.858555</td>\n",
       "    </tr>\n",
       "    <tr>\n",
       "      <th>17</th>\n",
       "      <td>t_weapon_ak47</td>\n",
       "      <td>1.843215</td>\n",
       "    </tr>\n",
       "    <tr>\n",
       "      <th>7</th>\n",
       "      <td>ct_armor</td>\n",
       "      <td>1.827233</td>\n",
       "    </tr>\n",
       "    <tr>\n",
       "      <th>65</th>\n",
       "      <td>t_weapon_sg553</td>\n",
       "      <td>1.757269</td>\n",
       "    </tr>\n",
       "    <tr>\n",
       "      <th>40</th>\n",
       "      <td>ct_weapon_m4a4</td>\n",
       "      <td>1.579577</td>\n",
       "    </tr>\n",
       "    <tr>\n",
       "      <th>5</th>\n",
       "      <td>ct_health</td>\n",
       "      <td>1.547474</td>\n",
       "    </tr>\n",
       "    <tr>\n",
       "      <th>15</th>\n",
       "      <td>t_players_alive</td>\n",
       "      <td>1.496022</td>\n",
       "    </tr>\n",
       "    <tr>\n",
       "      <th>6</th>\n",
       "      <td>t_health</td>\n",
       "      <td>1.373508</td>\n",
       "    </tr>\n",
       "    <tr>\n",
       "      <th>20</th>\n",
       "      <td>ct_weapon_awp</td>\n",
       "      <td>1.368958</td>\n",
       "    </tr>\n",
       "    <tr>\n",
       "      <th>21</th>\n",
       "      <td>t_weapon_awp</td>\n",
       "      <td>1.293358</td>\n",
       "    </tr>\n",
       "    <tr>\n",
       "      <th>89</th>\n",
       "      <td>t_grenade_smokegrenade</td>\n",
       "      <td>1.277793</td>\n",
       "    </tr>\n",
       "    <tr>\n",
       "      <th>4</th>\n",
       "      <td>bomb_planted</td>\n",
       "      <td>1.271580</td>\n",
       "    </tr>\n",
       "    <tr>\n",
       "      <th>64</th>\n",
       "      <td>ct_weapon_sg553</td>\n",
       "      <td>1.237461</td>\n",
       "    </tr>\n",
       "    <tr>\n",
       "      <th>14</th>\n",
       "      <td>ct_players_alive</td>\n",
       "      <td>1.236243</td>\n",
       "    </tr>\n",
       "    <tr>\n",
       "      <th>9</th>\n",
       "      <td>ct_money</td>\n",
       "      <td>1.230816</td>\n",
       "    </tr>\n",
       "    <tr>\n",
       "      <th>18</th>\n",
       "      <td>ct_weapon_aug</td>\n",
       "      <td>1.228140</td>\n",
       "    </tr>\n",
       "    <tr>\n",
       "      <th>16</th>\n",
       "      <td>ct_weapon_ak47</td>\n",
       "      <td>1.206627</td>\n",
       "    </tr>\n",
       "    <tr>\n",
       "      <th>87</th>\n",
       "      <td>t_grenade_flashbang</td>\n",
       "      <td>1.205896</td>\n",
       "    </tr>\n",
       "    <tr>\n",
       "      <th>35</th>\n",
       "      <td>t_weapon_glock</td>\n",
       "      <td>1.201893</td>\n",
       "    </tr>\n",
       "    <tr>\n",
       "      <th>10</th>\n",
       "      <td>t_money</td>\n",
       "      <td>1.164665</td>\n",
       "    </tr>\n",
       "  </tbody>\n",
       "</table>\n",
       "</div>"
      ],
      "text/plain": [
       "             Features_name  Coef Value\n",
       "8                  t_armor    1.858555\n",
       "17           t_weapon_ak47    1.843215\n",
       "7                 ct_armor    1.827233\n",
       "65          t_weapon_sg553    1.757269\n",
       "40          ct_weapon_m4a4    1.579577\n",
       "5                ct_health    1.547474\n",
       "15         t_players_alive    1.496022\n",
       "6                 t_health    1.373508\n",
       "20           ct_weapon_awp    1.368958\n",
       "21            t_weapon_awp    1.293358\n",
       "89  t_grenade_smokegrenade    1.277793\n",
       "4             bomb_planted    1.271580\n",
       "64         ct_weapon_sg553    1.237461\n",
       "14        ct_players_alive    1.236243\n",
       "9                 ct_money    1.230816\n",
       "18           ct_weapon_aug    1.228140\n",
       "16          ct_weapon_ak47    1.206627\n",
       "87     t_grenade_flashbang    1.205896\n",
       "35          t_weapon_glock    1.201893\n",
       "10                 t_money    1.164665"
      ]
     },
     "execution_count": 40,
     "metadata": {},
     "output_type": "execute_result"
    }
   ],
   "source": [
    "# Selected top 20 Features\n",
    "new_features_20 = df_lda_features.nlargest(20,'Coef Value')\n",
    "new_features_20"
   ]
  },
  {
   "cell_type": "code",
   "execution_count": 41,
   "id": "64a81660",
   "metadata": {},
   "outputs": [
    {
     "data": {
      "text/plain": [
       "[8, 17, 7, 65, 40, 5, 15, 6, 20, 21, 89, 4, 64, 14, 9, 18, 16, 87, 35, 10]"
      ]
     },
     "execution_count": 41,
     "metadata": {},
     "output_type": "execute_result"
    }
   ],
   "source": [
    "new_col_20  = list(new_features_20.index)\n",
    "new_col_20 "
   ]
  },
  {
   "cell_type": "code",
   "execution_count": 42,
   "id": "5c0a5f62",
   "metadata": {},
   "outputs": [],
   "source": [
    "x = df.iloc[:,[8, 17, 7, 65, 40, 5, 15, 6, 20, 21, 89, 4, 64, 14, 9, 18, 16, 87, 35, 10]]\n",
    "y= df.iloc[ : , -1]"
   ]
  },
  {
   "cell_type": "code",
   "execution_count": 43,
   "id": "c4d350cf",
   "metadata": {},
   "outputs": [],
   "source": [
    "X_train, X_test, y_train, y_test = train_test_split(x,y,test_size=0.20,random_state=0)"
   ]
  },
  {
   "cell_type": "markdown",
   "id": "2c892d35",
   "metadata": {},
   "source": [
    "### Model Building on 20 Features"
   ]
  },
  {
   "cell_type": "code",
   "execution_count": 52,
   "id": "c4f49733",
   "metadata": {},
   "outputs": [
    {
     "data": {
      "text/html": [
       "<style>#sk-container-id-4 {color: black;}#sk-container-id-4 pre{padding: 0;}#sk-container-id-4 div.sk-toggleable {background-color: white;}#sk-container-id-4 label.sk-toggleable__label {cursor: pointer;display: block;width: 100%;margin-bottom: 0;padding: 0.3em;box-sizing: border-box;text-align: center;}#sk-container-id-4 label.sk-toggleable__label-arrow:before {content: \"▸\";float: left;margin-right: 0.25em;color: #696969;}#sk-container-id-4 label.sk-toggleable__label-arrow:hover:before {color: black;}#sk-container-id-4 div.sk-estimator:hover label.sk-toggleable__label-arrow:before {color: black;}#sk-container-id-4 div.sk-toggleable__content {max-height: 0;max-width: 0;overflow: hidden;text-align: left;background-color: #f0f8ff;}#sk-container-id-4 div.sk-toggleable__content pre {margin: 0.2em;color: black;border-radius: 0.25em;background-color: #f0f8ff;}#sk-container-id-4 input.sk-toggleable__control:checked~div.sk-toggleable__content {max-height: 200px;max-width: 100%;overflow: auto;}#sk-container-id-4 input.sk-toggleable__control:checked~label.sk-toggleable__label-arrow:before {content: \"▾\";}#sk-container-id-4 div.sk-estimator input.sk-toggleable__control:checked~label.sk-toggleable__label {background-color: #d4ebff;}#sk-container-id-4 div.sk-label input.sk-toggleable__control:checked~label.sk-toggleable__label {background-color: #d4ebff;}#sk-container-id-4 input.sk-hidden--visually {border: 0;clip: rect(1px 1px 1px 1px);clip: rect(1px, 1px, 1px, 1px);height: 1px;margin: -1px;overflow: hidden;padding: 0;position: absolute;width: 1px;}#sk-container-id-4 div.sk-estimator {font-family: monospace;background-color: #f0f8ff;border: 1px dotted black;border-radius: 0.25em;box-sizing: border-box;margin-bottom: 0.5em;}#sk-container-id-4 div.sk-estimator:hover {background-color: #d4ebff;}#sk-container-id-4 div.sk-parallel-item::after {content: \"\";width: 100%;border-bottom: 1px solid gray;flex-grow: 1;}#sk-container-id-4 div.sk-label:hover label.sk-toggleable__label {background-color: #d4ebff;}#sk-container-id-4 div.sk-serial::before {content: \"\";position: absolute;border-left: 1px solid gray;box-sizing: border-box;top: 0;bottom: 0;left: 50%;z-index: 0;}#sk-container-id-4 div.sk-serial {display: flex;flex-direction: column;align-items: center;background-color: white;padding-right: 0.2em;padding-left: 0.2em;position: relative;}#sk-container-id-4 div.sk-item {position: relative;z-index: 1;}#sk-container-id-4 div.sk-parallel {display: flex;align-items: stretch;justify-content: center;background-color: white;position: relative;}#sk-container-id-4 div.sk-item::before, #sk-container-id-4 div.sk-parallel-item::before {content: \"\";position: absolute;border-left: 1px solid gray;box-sizing: border-box;top: 0;bottom: 0;left: 50%;z-index: -1;}#sk-container-id-4 div.sk-parallel-item {display: flex;flex-direction: column;z-index: 1;position: relative;background-color: white;}#sk-container-id-4 div.sk-parallel-item:first-child::after {align-self: flex-end;width: 50%;}#sk-container-id-4 div.sk-parallel-item:last-child::after {align-self: flex-start;width: 50%;}#sk-container-id-4 div.sk-parallel-item:only-child::after {width: 0;}#sk-container-id-4 div.sk-dashed-wrapped {border: 1px dashed gray;margin: 0 0.4em 0.5em 0.4em;box-sizing: border-box;padding-bottom: 0.4em;background-color: white;}#sk-container-id-4 div.sk-label label {font-family: monospace;font-weight: bold;display: inline-block;line-height: 1.2em;}#sk-container-id-4 div.sk-label-container {text-align: center;}#sk-container-id-4 div.sk-container {/* jupyter's `normalize.less` sets `[hidden] { display: none; }` but bootstrap.min.css set `[hidden] { display: none !important; }` so we also need the `!important` here to be able to override the default hidden behavior on the sphinx rendered scikit-learn.org. See: https://github.com/scikit-learn/scikit-learn/issues/21755 */display: inline-block !important;position: relative;}#sk-container-id-4 div.sk-text-repr-fallback {display: none;}</style><div id=\"sk-container-id-4\" class=\"sk-top-container\"><div class=\"sk-text-repr-fallback\"><pre>LogisticRegression()</pre><b>In a Jupyter environment, please rerun this cell to show the HTML representation or trust the notebook. <br />On GitHub, the HTML representation is unable to render, please try loading this page with nbviewer.org.</b></div><div class=\"sk-container\" hidden><div class=\"sk-item\"><div class=\"sk-estimator sk-toggleable\"><input class=\"sk-toggleable__control sk-hidden--visually\" id=\"sk-estimator-id-4\" type=\"checkbox\" checked><label for=\"sk-estimator-id-4\" class=\"sk-toggleable__label sk-toggleable__label-arrow\">LogisticRegression</label><div class=\"sk-toggleable__content\"><pre>LogisticRegression()</pre></div></div></div></div></div>"
      ],
      "text/plain": [
       "LogisticRegression()"
      ]
     },
     "execution_count": 52,
     "metadata": {},
     "output_type": "execute_result"
    }
   ],
   "source": [
    "# Logistic regression\n",
    "\n",
    "from sklearn.linear_model import LogisticRegression\n",
    "\n",
    "lg_m3 = LogisticRegression()\n",
    "lg_m3.fit(X_train,y_train)"
   ]
  },
  {
   "cell_type": "code",
   "execution_count": 53,
   "id": "46c61c63",
   "metadata": {},
   "outputs": [
    {
     "data": {
      "text/plain": [
       "array([1, 1, 0, ..., 1, 1, 0])"
      ]
     },
     "execution_count": 53,
     "metadata": {},
     "output_type": "execute_result"
    }
   ],
   "source": [
    "y_pred3 = lg_m3.predict(X_test)\n",
    "y_pred3"
   ]
  },
  {
   "cell_type": "code",
   "execution_count": 54,
   "id": "38814d6f",
   "metadata": {},
   "outputs": [
    {
     "data": {
      "text/plain": [
       "0.7455512984248617"
      ]
     },
     "execution_count": 54,
     "metadata": {},
     "output_type": "execute_result"
    }
   ],
   "source": [
    "from sklearn.metrics import accuracy_score\n",
    "\n",
    "accuracy_score(y_test,y_pred3)"
   ]
  },
  {
   "cell_type": "code",
   "execution_count": 44,
   "id": "5ed7845a",
   "metadata": {},
   "outputs": [
    {
     "data": {
      "text/html": [
       "<style>#sk-container-id-2 {color: black;}#sk-container-id-2 pre{padding: 0;}#sk-container-id-2 div.sk-toggleable {background-color: white;}#sk-container-id-2 label.sk-toggleable__label {cursor: pointer;display: block;width: 100%;margin-bottom: 0;padding: 0.3em;box-sizing: border-box;text-align: center;}#sk-container-id-2 label.sk-toggleable__label-arrow:before {content: \"▸\";float: left;margin-right: 0.25em;color: #696969;}#sk-container-id-2 label.sk-toggleable__label-arrow:hover:before {color: black;}#sk-container-id-2 div.sk-estimator:hover label.sk-toggleable__label-arrow:before {color: black;}#sk-container-id-2 div.sk-toggleable__content {max-height: 0;max-width: 0;overflow: hidden;text-align: left;background-color: #f0f8ff;}#sk-container-id-2 div.sk-toggleable__content pre {margin: 0.2em;color: black;border-radius: 0.25em;background-color: #f0f8ff;}#sk-container-id-2 input.sk-toggleable__control:checked~div.sk-toggleable__content {max-height: 200px;max-width: 100%;overflow: auto;}#sk-container-id-2 input.sk-toggleable__control:checked~label.sk-toggleable__label-arrow:before {content: \"▾\";}#sk-container-id-2 div.sk-estimator input.sk-toggleable__control:checked~label.sk-toggleable__label {background-color: #d4ebff;}#sk-container-id-2 div.sk-label input.sk-toggleable__control:checked~label.sk-toggleable__label {background-color: #d4ebff;}#sk-container-id-2 input.sk-hidden--visually {border: 0;clip: rect(1px 1px 1px 1px);clip: rect(1px, 1px, 1px, 1px);height: 1px;margin: -1px;overflow: hidden;padding: 0;position: absolute;width: 1px;}#sk-container-id-2 div.sk-estimator {font-family: monospace;background-color: #f0f8ff;border: 1px dotted black;border-radius: 0.25em;box-sizing: border-box;margin-bottom: 0.5em;}#sk-container-id-2 div.sk-estimator:hover {background-color: #d4ebff;}#sk-container-id-2 div.sk-parallel-item::after {content: \"\";width: 100%;border-bottom: 1px solid gray;flex-grow: 1;}#sk-container-id-2 div.sk-label:hover label.sk-toggleable__label {background-color: #d4ebff;}#sk-container-id-2 div.sk-serial::before {content: \"\";position: absolute;border-left: 1px solid gray;box-sizing: border-box;top: 0;bottom: 0;left: 50%;z-index: 0;}#sk-container-id-2 div.sk-serial {display: flex;flex-direction: column;align-items: center;background-color: white;padding-right: 0.2em;padding-left: 0.2em;position: relative;}#sk-container-id-2 div.sk-item {position: relative;z-index: 1;}#sk-container-id-2 div.sk-parallel {display: flex;align-items: stretch;justify-content: center;background-color: white;position: relative;}#sk-container-id-2 div.sk-item::before, #sk-container-id-2 div.sk-parallel-item::before {content: \"\";position: absolute;border-left: 1px solid gray;box-sizing: border-box;top: 0;bottom: 0;left: 50%;z-index: -1;}#sk-container-id-2 div.sk-parallel-item {display: flex;flex-direction: column;z-index: 1;position: relative;background-color: white;}#sk-container-id-2 div.sk-parallel-item:first-child::after {align-self: flex-end;width: 50%;}#sk-container-id-2 div.sk-parallel-item:last-child::after {align-self: flex-start;width: 50%;}#sk-container-id-2 div.sk-parallel-item:only-child::after {width: 0;}#sk-container-id-2 div.sk-dashed-wrapped {border: 1px dashed gray;margin: 0 0.4em 0.5em 0.4em;box-sizing: border-box;padding-bottom: 0.4em;background-color: white;}#sk-container-id-2 div.sk-label label {font-family: monospace;font-weight: bold;display: inline-block;line-height: 1.2em;}#sk-container-id-2 div.sk-label-container {text-align: center;}#sk-container-id-2 div.sk-container {/* jupyter's `normalize.less` sets `[hidden] { display: none; }` but bootstrap.min.css set `[hidden] { display: none !important; }` so we also need the `!important` here to be able to override the default hidden behavior on the sphinx rendered scikit-learn.org. See: https://github.com/scikit-learn/scikit-learn/issues/21755 */display: inline-block !important;position: relative;}#sk-container-id-2 div.sk-text-repr-fallback {display: none;}</style><div id=\"sk-container-id-2\" class=\"sk-top-container\"><div class=\"sk-text-repr-fallback\"><pre>RandomForestClassifier()</pre><b>In a Jupyter environment, please rerun this cell to show the HTML representation or trust the notebook. <br />On GitHub, the HTML representation is unable to render, please try loading this page with nbviewer.org.</b></div><div class=\"sk-container\" hidden><div class=\"sk-item\"><div class=\"sk-estimator sk-toggleable\"><input class=\"sk-toggleable__control sk-hidden--visually\" id=\"sk-estimator-id-2\" type=\"checkbox\" checked><label for=\"sk-estimator-id-2\" class=\"sk-toggleable__label sk-toggleable__label-arrow\">RandomForestClassifier</label><div class=\"sk-toggleable__content\"><pre>RandomForestClassifier()</pre></div></div></div></div></div>"
      ],
      "text/plain": [
       "RandomForestClassifier()"
      ]
     },
     "execution_count": 44,
     "metadata": {},
     "output_type": "execute_result"
    }
   ],
   "source": [
    "# Random Forest\n",
    "\n",
    "from sklearn.ensemble import RandomForestClassifier\n",
    "\n",
    "rf_m1 = RandomForestClassifier()\n",
    "rf_m1.fit(X_train, y_train)"
   ]
  },
  {
   "cell_type": "code",
   "execution_count": 45,
   "id": "8d9e9393",
   "metadata": {},
   "outputs": [
    {
     "data": {
      "text/plain": [
       "array([1, 1, 0, ..., 1, 1, 0])"
      ]
     },
     "execution_count": 45,
     "metadata": {},
     "output_type": "execute_result"
    }
   ],
   "source": [
    "y_pred1 = rf_m1.predict(X_test)\n",
    "y_pred1"
   ]
  },
  {
   "cell_type": "code",
   "execution_count": 46,
   "id": "36d40eb3",
   "metadata": {},
   "outputs": [
    {
     "data": {
      "text/plain": [
       "0.8532141336739038"
      ]
     },
     "execution_count": 46,
     "metadata": {},
     "output_type": "execute_result"
    }
   ],
   "source": [
    "from sklearn.metrics import accuracy_score\n",
    "\n",
    "accuracy_score(y_test,y_pred1)\n"
   ]
  },
  {
   "cell_type": "markdown",
   "id": "d160b9fa",
   "metadata": {},
   "source": [
    "**XGBoost**"
   ]
  },
  {
   "cell_type": "code",
   "execution_count": 47,
   "id": "cea0221e",
   "metadata": {},
   "outputs": [
    {
     "name": "stdout",
     "output_type": "stream",
     "text": [
      "Requirement already satisfied: xgboost in c:\\users\\91960\\anaconda3\\lib\\site-packages (2.1.1)\n",
      "Requirement already satisfied: numpy in c:\\users\\91960\\anaconda3\\lib\\site-packages (from xgboost) (1.24.3)\n",
      "Requirement already satisfied: scipy in c:\\users\\91960\\anaconda3\\lib\\site-packages (from xgboost) (1.11.1)\n",
      "Note: you may need to restart the kernel to use updated packages.\n"
     ]
    }
   ],
   "source": [
    "pip install xgboost"
   ]
  },
  {
   "cell_type": "code",
   "execution_count": 49,
   "id": "af0efee7",
   "metadata": {},
   "outputs": [
    {
     "data": {
      "text/html": [
       "<style>#sk-container-id-3 {color: black;}#sk-container-id-3 pre{padding: 0;}#sk-container-id-3 div.sk-toggleable {background-color: white;}#sk-container-id-3 label.sk-toggleable__label {cursor: pointer;display: block;width: 100%;margin-bottom: 0;padding: 0.3em;box-sizing: border-box;text-align: center;}#sk-container-id-3 label.sk-toggleable__label-arrow:before {content: \"▸\";float: left;margin-right: 0.25em;color: #696969;}#sk-container-id-3 label.sk-toggleable__label-arrow:hover:before {color: black;}#sk-container-id-3 div.sk-estimator:hover label.sk-toggleable__label-arrow:before {color: black;}#sk-container-id-3 div.sk-toggleable__content {max-height: 0;max-width: 0;overflow: hidden;text-align: left;background-color: #f0f8ff;}#sk-container-id-3 div.sk-toggleable__content pre {margin: 0.2em;color: black;border-radius: 0.25em;background-color: #f0f8ff;}#sk-container-id-3 input.sk-toggleable__control:checked~div.sk-toggleable__content {max-height: 200px;max-width: 100%;overflow: auto;}#sk-container-id-3 input.sk-toggleable__control:checked~label.sk-toggleable__label-arrow:before {content: \"▾\";}#sk-container-id-3 div.sk-estimator input.sk-toggleable__control:checked~label.sk-toggleable__label {background-color: #d4ebff;}#sk-container-id-3 div.sk-label input.sk-toggleable__control:checked~label.sk-toggleable__label {background-color: #d4ebff;}#sk-container-id-3 input.sk-hidden--visually {border: 0;clip: rect(1px 1px 1px 1px);clip: rect(1px, 1px, 1px, 1px);height: 1px;margin: -1px;overflow: hidden;padding: 0;position: absolute;width: 1px;}#sk-container-id-3 div.sk-estimator {font-family: monospace;background-color: #f0f8ff;border: 1px dotted black;border-radius: 0.25em;box-sizing: border-box;margin-bottom: 0.5em;}#sk-container-id-3 div.sk-estimator:hover {background-color: #d4ebff;}#sk-container-id-3 div.sk-parallel-item::after {content: \"\";width: 100%;border-bottom: 1px solid gray;flex-grow: 1;}#sk-container-id-3 div.sk-label:hover label.sk-toggleable__label {background-color: #d4ebff;}#sk-container-id-3 div.sk-serial::before {content: \"\";position: absolute;border-left: 1px solid gray;box-sizing: border-box;top: 0;bottom: 0;left: 50%;z-index: 0;}#sk-container-id-3 div.sk-serial {display: flex;flex-direction: column;align-items: center;background-color: white;padding-right: 0.2em;padding-left: 0.2em;position: relative;}#sk-container-id-3 div.sk-item {position: relative;z-index: 1;}#sk-container-id-3 div.sk-parallel {display: flex;align-items: stretch;justify-content: center;background-color: white;position: relative;}#sk-container-id-3 div.sk-item::before, #sk-container-id-3 div.sk-parallel-item::before {content: \"\";position: absolute;border-left: 1px solid gray;box-sizing: border-box;top: 0;bottom: 0;left: 50%;z-index: -1;}#sk-container-id-3 div.sk-parallel-item {display: flex;flex-direction: column;z-index: 1;position: relative;background-color: white;}#sk-container-id-3 div.sk-parallel-item:first-child::after {align-self: flex-end;width: 50%;}#sk-container-id-3 div.sk-parallel-item:last-child::after {align-self: flex-start;width: 50%;}#sk-container-id-3 div.sk-parallel-item:only-child::after {width: 0;}#sk-container-id-3 div.sk-dashed-wrapped {border: 1px dashed gray;margin: 0 0.4em 0.5em 0.4em;box-sizing: border-box;padding-bottom: 0.4em;background-color: white;}#sk-container-id-3 div.sk-label label {font-family: monospace;font-weight: bold;display: inline-block;line-height: 1.2em;}#sk-container-id-3 div.sk-label-container {text-align: center;}#sk-container-id-3 div.sk-container {/* jupyter's `normalize.less` sets `[hidden] { display: none; }` but bootstrap.min.css set `[hidden] { display: none !important; }` so we also need the `!important` here to be able to override the default hidden behavior on the sphinx rendered scikit-learn.org. See: https://github.com/scikit-learn/scikit-learn/issues/21755 */display: inline-block !important;position: relative;}#sk-container-id-3 div.sk-text-repr-fallback {display: none;}</style><div id=\"sk-container-id-3\" class=\"sk-top-container\"><div class=\"sk-text-repr-fallback\"><pre>XGBClassifier(base_score=None, booster=None, callbacks=None,\n",
       "              colsample_bylevel=None, colsample_bynode=None,\n",
       "              colsample_bytree=None, device=None, early_stopping_rounds=None,\n",
       "              enable_categorical=False, eval_metric=None, feature_types=None,\n",
       "              gamma=None, grow_policy=None, importance_type=None,\n",
       "              interaction_constraints=None, learning_rate=None, max_bin=None,\n",
       "              max_cat_threshold=None, max_cat_to_onehot=None,\n",
       "              max_delta_step=None, max_depth=None, max_leaves=None,\n",
       "              min_child_weight=None, missing=nan, monotone_constraints=None,\n",
       "              multi_strategy=None, n_estimators=None, n_jobs=None,\n",
       "              num_parallel_tree=None, random_state=None, ...)</pre><b>In a Jupyter environment, please rerun this cell to show the HTML representation or trust the notebook. <br />On GitHub, the HTML representation is unable to render, please try loading this page with nbviewer.org.</b></div><div class=\"sk-container\" hidden><div class=\"sk-item\"><div class=\"sk-estimator sk-toggleable\"><input class=\"sk-toggleable__control sk-hidden--visually\" id=\"sk-estimator-id-3\" type=\"checkbox\" checked><label for=\"sk-estimator-id-3\" class=\"sk-toggleable__label sk-toggleable__label-arrow\">XGBClassifier</label><div class=\"sk-toggleable__content\"><pre>XGBClassifier(base_score=None, booster=None, callbacks=None,\n",
       "              colsample_bylevel=None, colsample_bynode=None,\n",
       "              colsample_bytree=None, device=None, early_stopping_rounds=None,\n",
       "              enable_categorical=False, eval_metric=None, feature_types=None,\n",
       "              gamma=None, grow_policy=None, importance_type=None,\n",
       "              interaction_constraints=None, learning_rate=None, max_bin=None,\n",
       "              max_cat_threshold=None, max_cat_to_onehot=None,\n",
       "              max_delta_step=None, max_depth=None, max_leaves=None,\n",
       "              min_child_weight=None, missing=nan, monotone_constraints=None,\n",
       "              multi_strategy=None, n_estimators=None, n_jobs=None,\n",
       "              num_parallel_tree=None, random_state=None, ...)</pre></div></div></div></div></div>"
      ],
      "text/plain": [
       "XGBClassifier(base_score=None, booster=None, callbacks=None,\n",
       "              colsample_bylevel=None, colsample_bynode=None,\n",
       "              colsample_bytree=None, device=None, early_stopping_rounds=None,\n",
       "              enable_categorical=False, eval_metric=None, feature_types=None,\n",
       "              gamma=None, grow_policy=None, importance_type=None,\n",
       "              interaction_constraints=None, learning_rate=None, max_bin=None,\n",
       "              max_cat_threshold=None, max_cat_to_onehot=None,\n",
       "              max_delta_step=None, max_depth=None, max_leaves=None,\n",
       "              min_child_weight=None, missing=nan, monotone_constraints=None,\n",
       "              multi_strategy=None, n_estimators=None, n_jobs=None,\n",
       "              num_parallel_tree=None, random_state=None, ...)"
      ]
     },
     "execution_count": 49,
     "metadata": {},
     "output_type": "execute_result"
    }
   ],
   "source": [
    "import xgboost\n",
    "xg_m2 = xgboost.XGBClassifier()\n",
    "xg_m2.fit(X_train,y_train)"
   ]
  },
  {
   "cell_type": "code",
   "execution_count": 50,
   "id": "accbc45a",
   "metadata": {},
   "outputs": [
    {
     "data": {
      "text/plain": [
       "array([1, 1, 0, ..., 1, 1, 0])"
      ]
     },
     "execution_count": 50,
     "metadata": {},
     "output_type": "execute_result"
    }
   ],
   "source": [
    "y_pred2 =xg_m2.predict(X_test)\n",
    "y_pred2"
   ]
  },
  {
   "cell_type": "code",
   "execution_count": 51,
   "id": "43f29488",
   "metadata": {},
   "outputs": [
    {
     "data": {
      "text/plain": [
       "0.7905491698595147"
      ]
     },
     "execution_count": 51,
     "metadata": {},
     "output_type": "execute_result"
    }
   ],
   "source": [
    "from sklearn.metrics import accuracy_score\n",
    "\n",
    "accuracy_score(y_test,y_pred2)\n"
   ]
  },
  {
   "cell_type": "markdown",
   "id": "8870d95e",
   "metadata": {},
   "source": [
    "**Conclusion: Random Forest HAs Highest Accuracy Score**"
   ]
  },
  {
   "cell_type": "code",
   "execution_count": null,
   "id": "a7dd7838",
   "metadata": {},
   "outputs": [],
   "source": []
  }
 ],
 "metadata": {
  "kernelspec": {
   "display_name": "Python 3 (ipykernel)",
   "language": "python",
   "name": "python3"
  },
  "language_info": {
   "codemirror_mode": {
    "name": "ipython",
    "version": 3
   },
   "file_extension": ".py",
   "mimetype": "text/x-python",
   "name": "python",
   "nbconvert_exporter": "python",
   "pygments_lexer": "ipython3",
   "version": "3.11.5"
  }
 },
 "nbformat": 4,
 "nbformat_minor": 5
}
